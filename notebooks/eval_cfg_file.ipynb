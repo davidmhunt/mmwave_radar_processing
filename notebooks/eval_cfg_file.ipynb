{
 "cells": [
  {
   "cell_type": "code",
   "execution_count": 1,
   "metadata": {},
   "outputs": [
    {
     "name": "stderr",
     "output_type": "stream",
     "text": [
      "/home/david/.cache/pypoetry/virtualenvs/mmwave-radar-processing-ERvCMkmn-py3.12/lib/python3.12/site-packages/matplotlib/projections/__init__.py:63: UserWarning: Unable to import Axes3D. This may be due to multiple versions of Matplotlib being installed (e.g. as a system package and as a pip package). As a result, the 3D projection is not available.\n",
      "  warnings.warn(\"Unable to import Axes3D. This may be due to multiple versions of \"\n"
     ]
    }
   ],
   "source": [
    "import sys\n",
    "import os\n",
    "import matplotlib.pyplot as plt\n",
    "import numpy as np\n",
    "from tqdm import tqdm\n",
    "from dotenv import load_dotenv\n",
    "load_dotenv()\n",
    "# DATASET_PATH=os.getenv(\"DATASET_DIRECTORY\")\n",
    "DATASET_PATH=\"/data/RadSAR\"\n",
    "CONFIG_DIRECTORY = os.getenv(\"CONFIG_DIRECTORY\")\n",
    "\n",
    "sys.path.append(\"../\")\n",
    "from mmwave_radar_processing.config_managers.cfgManager import ConfigManager\n",
    "from cpsl_datasets.cpsl_ds import CpslDS"
   ]
  },
  {
   "cell_type": "code",
   "execution_count": 2,
   "metadata": {},
   "outputs": [
    {
     "name": "stdout",
     "output_type": "stream",
     "text": [
      "range res: 0.04745632415959596\n",
      "range max: 3.321942691171717\n",
      "profile config: \n",
      "\t{'profileId': 0, 'startFreq_GHz': 60.0, 'idleTime_us': 120.0, 'adcStartTime_us': 7.0, 'rampEndTime_us': 40.0, 'txOutPower': 0.0, 'txPhaseShifter': 0.0, 'freqSlope_MHz_us': 99.0, 'txStartTime_us': 1.0, 'adcSamples': 70, 'sampleRate_kSps': 2194, 'hpfCornerFreq1': 0, 'hpfCornerFreq2': 0, 'rxGain_dB': 158.0}\n",
      "Frame loops: 40\n",
      "vel res: 0.1301182543402778\n",
      "vel max: 2.602365086805556\n",
      "Chirp bandwidth: 3960.0 MHz\n",
      "Chirp period: 160.0 us\n",
      "Active frame time: 19.2 ms\n",
      "Frame period: 33.3\n"
     ]
    }
   ],
   "source": [
    "cfg_manager = ConfigManager()\n",
    "\n",
    "cfg_path = os.path.join(CONFIG_DIRECTORY,\"6843_hand_ods_30Hz.cfg\")\n",
    "# cfg_path = os.path.join(CONFIG_DIRECTORY,\"1843_RadVel_10Hz_lr_SAR.cfg\")\n",
    "cfg_manager.load_cfg(cfg_path)\n",
    "cfg_manager.compute_radar_perforance(profile_idx=0)\n",
    "\n",
    "print(f\"range res: {cfg_manager.range_res_m}\")\n",
    "print(f\"range max: {cfg_manager.range_max_m}\")\n",
    "print(f\"profile config: \\n\\t{cfg_manager.profile_cfgs[0]}\")\n",
    "print(f\"Frame loops: {cfg_manager.frameCfg_loops}\")\n",
    "print(f\"vel res: {cfg_manager.vel_res_m_s}\")\n",
    "print(f\"vel max: {cfg_manager.vel_max_m_s}\")\n",
    "print(f\"Chirp bandwidth: {cfg_manager.profile_cfgs[0]['freqSlope_MHz_us'] * cfg_manager.profile_cfgs[0]['rampEndTime_us']} MHz\")\n",
    "chirp_period_us = cfg_manager.profile_cfgs[0]['idleTime_us'] + cfg_manager.profile_cfgs[0]['rampEndTime_us']\n",
    "print(f\"Chirp period: {chirp_period_us} us\")\n",
    "\n",
    "num_tx_antennas = cfg_manager.frameCfg_end_index - cfg_manager.frameCfg_start_index + 1\n",
    "active_frame_period = num_tx_antennas * cfg_manager.frameCfg_loops * chirp_period_us * 1e-3\n",
    "print(f\"Active frame time: {active_frame_period} ms\")\n",
    "print(f\"Frame period: {cfg_manager.frameCfg_periodicity_ms}\")\n"
   ]
  },
  {
   "cell_type": "code",
   "execution_count": 3,
   "metadata": {},
   "outputs": [
    {
     "name": "stdout",
     "output_type": "stream",
     "text": [
      "Frame duration: 19.200000000000003 ms\n",
      "Wavelength: 5.0 mm\n",
      "Chirp duration: 160.0 us\n",
      "Max velocity: 2.6041666666666665 m/s\n",
      "Velocity resolution: 0.13020833333333331 m/s\n",
      "Range resolution: 0.04749841671944269 m\n",
      "Max range: 3.324889170360988 m\n",
      "Sampled bandwidth: 3.158 GHz\n",
      "Chirp period (from slope): 39.898989898989896 us\n",
      "Idle time: 120.10101010101012 us\n",
      "Sample rate: 2.194426852438252 MHz\n"
     ]
    }
   ],
   "source": [
    "freq = 60e9\n",
    "lbda = 3e8 / (freq)\n",
    "T_chirp = 160e-6\n",
    "N_chirps = 40\n",
    "num_tx = 3\n",
    "\n",
    "slope = 99e12\n",
    "chirp_bw = 3.95e9\n",
    "chirp_period = chirp_bw / slope\n",
    "sampled_period = chirp_period - 8e-6\n",
    "sampled_bw = slope * sampled_period\n",
    "idle_time = T_chirp - chirp_period\n",
    "\n",
    "num_samples = 70\n",
    "range_res = 3e8 / (2 * sampled_bw)\n",
    "sample_rate = num_samples / sampled_period\n",
    "range_max = num_samples * range_res\n",
    "\n",
    "#computing frame characteristics\n",
    "frame_duration = N_chirps * T_chirp * num_tx\n",
    "\n",
    "#computing velocity\n",
    "v_max = lbda / (4 * T_chirp * num_tx)\n",
    "v_res = lbda / (2 * N_chirps * T_chirp * num_tx)\n",
    "\n",
    "print(f\"Frame duration: {frame_duration*1e3} ms\")\n",
    "print(f\"Wavelength: {lbda*1e3} mm\")\n",
    "print(f\"Chirp duration: {T_chirp*1e6} us\")\n",
    "print(f\"Max velocity: {v_max} m/s\")\n",
    "print(f\"Velocity resolution: {v_res} m/s\")\n",
    "print(f\"Range resolution: {range_res} m\")\n",
    "print(f\"Max range: {range_max} m\")\n",
    "print(f\"Sampled bandwidth: {sampled_bw/1e9} GHz\")\n",
    "print(f\"Chirp period (from slope): {chirp_period*1e6} us\")\n",
    "print(f\"Idle time: {idle_time*1e6} us\")\n",
    "print(f\"Sample rate: {sample_rate/1e6} MHz\")\n"
   ]
  }
 ],
 "metadata": {
  "kernelspec": {
   "display_name": "mmwave-radar-processing-py3.12",
   "language": "python",
   "name": "python3"
  },
  "language_info": {
   "codemirror_mode": {
    "name": "ipython",
    "version": 3
   },
   "file_extension": ".py",
   "mimetype": "text/x-python",
   "name": "python",
   "nbconvert_exporter": "python",
   "pygments_lexer": "ipython3",
   "version": "3.12.3"
  }
 },
 "nbformat": 4,
 "nbformat_minor": 2
}

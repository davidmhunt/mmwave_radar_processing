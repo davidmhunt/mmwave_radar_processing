{
 "cells": [
  {
   "cell_type": "code",
   "execution_count": 1,
   "metadata": {},
   "outputs": [
    {
     "name": "stderr",
     "output_type": "stream",
     "text": [
      "/home/david/.cache/pypoetry/virtualenvs/mmwave-radar-processing-ERvCMkmn-py3.12/lib/python3.12/site-packages/matplotlib/projections/__init__.py:63: UserWarning: Unable to import Axes3D. This may be due to multiple versions of Matplotlib being installed (e.g. as a system package and as a pip package). As a result, the 3D projection is not available.\n",
      "  warnings.warn(\"Unable to import Axes3D. This may be due to multiple versions of \"\n"
     ]
    }
   ],
   "source": [
    "import sys\n",
    "import os\n",
    "import matplotlib.pyplot as plt\n",
    "import numpy as np\n",
    "from tqdm import tqdm\n",
    "from dotenv import load_dotenv\n",
    "load_dotenv()\n",
    "# DATASET_PATH=os.getenv(\"DATASET_DIRECTORY\")\n",
    "DATASET_PATH=\"/data/RadSAR\"\n",
    "CONFIG_DIRECTORY = os.getenv(\"CONFIG_DIRECTORY\")\n",
    "\n",
    "sys.path.append(\"../\")\n",
    "from mmwave_radar_processing.config_managers.cfgManager import ConfigManager\n",
    "from cpsl_datasets.cpsl_ds import CpslDS"
   ]
  },
  {
   "cell_type": "code",
   "execution_count": 2,
   "metadata": {},
   "outputs": [
    {
     "name": "stdout",
     "output_type": "stream",
     "text": [
      "range res: 0.06245676208333333\n",
      "range max: 3.93477601125\n",
      "profile config: \n",
      "\t{'profileId': 0, 'startFreq_GHz': 60.0, 'idleTime_us': 200.0, 'adcStartTime_us': 7.0, 'rampEndTime_us': 44.0, 'txOutPower': 0.0, 'txPhaseShifter': 0.0, 'freqSlope_MHz_us': 80.0, 'txStartTime_us': 1.0, 'adcSamples': 63, 'sampleRate_kSps': 2100, 'hpfCornerFreq1': 0, 'hpfCornerFreq2': 0, 'rxGain_dB': 158.0}\n",
      "Frame loops: 100\n",
      "vel res: 0.03412937818761384\n",
      "vel max: 1.7064689093806922\n",
      "Chirp bandwidth: 3520.0 MHz\n",
      "Chirp period: 244.0 us\n",
      "Active frame time: 73.2 ms\n",
      "Frame period: 100.0\n"
     ]
    }
   ],
   "source": [
    "cfg_manager = ConfigManager()\n",
    "\n",
    "cfg_path = os.path.join(CONFIG_DIRECTORY,\"6843_RadVel_ods_10Hz.cfg\")\n",
    "# cfg_path = os.path.join(CONFIG_DIRECTORY,\"1843_RadVel_10Hz_lr_SAR.cfg\")\n",
    "cfg_manager.load_cfg(cfg_path)\n",
    "cfg_manager.compute_radar_perforance(profile_idx=0)\n",
    "\n",
    "print(f\"range res: {cfg_manager.range_res_m}\")\n",
    "print(f\"range max: {cfg_manager.range_max_m}\")\n",
    "print(f\"profile config: \\n\\t{cfg_manager.profile_cfgs[0]}\")\n",
    "print(f\"Frame loops: {cfg_manager.frameCfg_loops}\")\n",
    "print(f\"vel res: {cfg_manager.vel_res_m_s}\")\n",
    "print(f\"vel max: {cfg_manager.vel_max_m_s}\")\n",
    "print(f\"Chirp bandwidth: {cfg_manager.profile_cfgs[0]['freqSlope_MHz_us'] * cfg_manager.profile_cfgs[0]['rampEndTime_us']} MHz\")\n",
    "chirp_period_us = cfg_manager.profile_cfgs[0]['idleTime_us'] + cfg_manager.profile_cfgs[0]['rampEndTime_us']\n",
    "print(f\"Chirp period: {chirp_period_us} us\")\n",
    "\n",
    "num_tx_antennas = cfg_manager.frameCfg_end_index - cfg_manager.frameCfg_start_index + 1\n",
    "active_frame_period = num_tx_antennas * cfg_manager.frameCfg_loops * chirp_period_us * 1e-3\n",
    "print(f\"Active frame time: {active_frame_period} ms\")\n",
    "print(f\"Frame period: {cfg_manager.frameCfg_periodicity_ms}\")\n"
   ]
  }
 ],
 "metadata": {
  "kernelspec": {
   "display_name": "mmwave-radar-processing-py3.12",
   "language": "python",
   "name": "python3"
  },
  "language_info": {
   "codemirror_mode": {
    "name": "ipython",
    "version": 3
   },
   "file_extension": ".py",
   "mimetype": "text/x-python",
   "name": "python",
   "nbconvert_exporter": "python",
   "pygments_lexer": "ipython3",
   "version": "3.12.3"
  }
 },
 "nbformat": 4,
 "nbformat_minor": 2
}

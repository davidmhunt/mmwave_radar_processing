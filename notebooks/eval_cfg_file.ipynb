{
 "cells": [
  {
   "cell_type": "code",
   "execution_count": 7,
   "metadata": {},
   "outputs": [],
   "source": [
    "import sys\n",
    "import os\n",
    "import matplotlib.pyplot as plt\n",
    "import numpy as np\n",
    "from tqdm import tqdm\n",
    "from dotenv import load_dotenv\n",
    "load_dotenv()\n",
    "# DATASET_PATH=os.getenv(\"DATASET_DIRECTORY\")\n",
    "DATASET_PATH=\"/data/RadSAR\"\n",
    "CONFIG_DIRECTORY = os.getenv(\"CONFIG_DIRECTORY\")\n",
    "\n",
    "sys.path.append(\"../\")\n",
    "from mmwave_radar_processing.config_managers.cfgManager import ConfigManager\n",
    "from cpsl_datasets.cpsl_ds import CpslDS"
   ]
  },
  {
   "cell_type": "code",
   "execution_count": 8,
   "metadata": {},
   "outputs": [
    {
     "name": "stdout",
     "output_type": "stream",
     "text": [
      "range res: 0.13657211975555555\n",
      "range max: 12.291490778\n",
      "profile config: \n",
      "\t{'profileId': 0, 'startFreq_GHz': 77.0, 'idleTime_us': 300.0, 'adcStartTime_us': 7.0, 'rampEndTime_us': 100.0, 'txOutPower': 0.0, 'txPhaseShifter': 0.0, 'freqSlope_MHz_us': 25.0, 'txStartTime_us': 1.0, 'adcSamples': 90, 'sampleRate_kSps': 2050, 'hpfCornerFreq1': 0, 'hpfCornerFreq2': 0, 'rxGain_dB': 30.0}\n",
      "Frame loops: 100\n",
      "vel res: 0.02433380340909091\n",
      "vel max: 1.2166901704545456\n",
      "Chirp period: 400.0 us\n",
      "Active frame time: 80.0 ms\n",
      "Frame period: 100.0\n"
     ]
    }
   ],
   "source": [
    "cfg_manager = ConfigManager()\n",
    "\n",
    "# cfg_path = os.path.join(CONFIG_DIRECTORY,\"6843_RadVel_ods_10Hz.cfg\")\n",
    "cfg_path = os.path.join(CONFIG_DIRECTORY,\"1843_RadVel_10Hz_lr.cfg\")\n",
    "cfg_manager.load_cfg(cfg_path)\n",
    "cfg_manager.compute_radar_perforance(profile_idx=0)\n",
    "\n",
    "print(f\"range res: {cfg_manager.range_res_m}\")\n",
    "print(f\"range max: {cfg_manager.range_max_m}\")\n",
    "print(f\"profile config: \\n\\t{cfg_manager.profile_cfgs[0]}\")\n",
    "print(f\"Frame loops: {cfg_manager.frameCfg_loops}\")\n",
    "print(f\"vel res: {cfg_manager.vel_res_m_s}\")\n",
    "print(f\"vel max: {cfg_manager.vel_max_m_s}\")\n",
    "\n",
    "chirp_period_us = cfg_manager.profile_cfgs[0]['idleTime_us'] + cfg_manager.profile_cfgs[0]['rampEndTime_us']\n",
    "print(f\"Chirp period: {chirp_period_us} us\")\n",
    "\n",
    "num_tx_antennas = cfg_manager.frameCfg_end_index - cfg_manager.frameCfg_start_index + 1\n",
    "active_frame_period = num_tx_antennas * cfg_manager.frameCfg_loops * chirp_period_us * 1e-3\n",
    "print(f\"Active frame time: {active_frame_period} ms\")\n",
    "print(f\"Frame period: {cfg_manager.frameCfg_periodicity_ms}\")\n"
   ]
  }
 ],
 "metadata": {
  "kernelspec": {
   "display_name": "mmwave-radar-processing-py3.12",
   "language": "python",
   "name": "python3"
  },
  "language_info": {
   "codemirror_mode": {
    "name": "ipython",
    "version": 3
   },
   "file_extension": ".py",
   "mimetype": "text/x-python",
   "name": "python",
   "nbconvert_exporter": "python",
   "pygments_lexer": "ipython3",
   "version": "3.12.3"
  }
 },
 "nbformat": 4,
 "nbformat_minor": 2
}

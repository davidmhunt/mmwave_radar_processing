{
 "cells": [
  {
   "cell_type": "code",
   "execution_count": 1,
   "metadata": {},
   "outputs": [],
   "source": [
    "import numpy as np"
   ]
  },
  {
   "cell_type": "code",
   "execution_count": 3,
   "metadata": {},
   "outputs": [
    {
     "name": "stdout",
     "output_type": "stream",
     "text": [
      "integration time: 80.0ms \n",
      "inter-element spacing: 0.00032 m, ideal: 0.001948051948051948m\n",
      "scan distance: 0.032 m\n",
      "6.975947180975932\n"
     ]
    }
   ],
   "source": [
    "#estimating resolution\n",
    "\n",
    "N = 100\n",
    "v = 0.2 #m/s\n",
    "T_c = 800e-6 #s\n",
    "\n",
    "print(f\"integration time: {N * T_c * 1e3}ms \")\n",
    "\n",
    "d = 2 * v * T_c\n",
    "\n",
    "lmbda = 3e8/77.0e9\n",
    "\n",
    "print(f\"inter-element spacing: {d} m, ideal: {lmbda/2}m\")\n",
    "print(f\"scan distance: {d * N} m\")\n",
    "\n",
    "theta_res_deg = np.rad2deg(lmbda / (N * d))\n",
    "\n",
    "print(theta_res_deg)"
   ]
  }
 ],
 "metadata": {
  "kernelspec": {
   "display_name": "mmwave-radar-processing-py3.12",
   "language": "python",
   "name": "python3"
  },
  "language_info": {
   "codemirror_mode": {
    "name": "ipython",
    "version": 3
   },
   "file_extension": ".py",
   "mimetype": "text/x-python",
   "name": "python",
   "nbconvert_exporter": "python",
   "pygments_lexer": "ipython3",
   "version": "3.12.3"
  }
 },
 "nbformat": 4,
 "nbformat_minor": 2
}
